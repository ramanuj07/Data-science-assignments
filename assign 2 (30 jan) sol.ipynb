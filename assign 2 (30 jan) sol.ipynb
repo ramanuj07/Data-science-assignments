{
 "cells": [
  {
   "cell_type": "code",
   "execution_count": 12,
   "id": "45b2ac8d-ff90-4b8b-a722-9150d299b099",
   "metadata": {},
   "outputs": [
    {
     "name": "stdin",
     "output_type": "stream",
     "text": [
      "Enter the marks 45\n"
     ]
    },
    {
     "name": "stdout",
     "output_type": "stream",
     "text": [
      "Grade obtained is D\n"
     ]
    }
   ],
   "source": [
    "## ANSWER-1\n",
    "marks= int(input(\"Enter the marks\"))\n",
    "if marks>90 and marks<=100 :\n",
    "    print(\"Grade obtained is A\")\n",
    "elif marks>80 and marks<=90 :\n",
    "    print(\"Grade obtained is B\")\n",
    "elif marks>60 and marks<=80 :\n",
    "    print(\"Grade obtained is C\")\n",
    "elif marks>=0 and marks<=60 :\n",
    "    print(\"Grade obtained is D\")\n",
    "else : \n",
    "    print(\"Please enter marks within the range of 0-100\")"
   ]
  },
  {
   "cell_type": "code",
   "execution_count": 10,
   "id": "4fafd504-c055-46b9-8028-58d8985fca17",
   "metadata": {},
   "outputs": [
    {
     "name": "stdin",
     "output_type": "stream",
     "text": [
      "Enter the cost price of the bike in Rs:  40000\n"
     ]
    },
    {
     "name": "stdout",
     "output_type": "stream",
     "text": [
      "Road tax to be paid is 5%\n"
     ]
    }
   ],
   "source": [
    "## ANSWER-2\n",
    "costPrice= int(input(\"Enter the cost price of the bike in Rs: \"))\n",
    "if costPrice>100000 :\n",
    "    print(\"Road tax to be paid is 15%\")\n",
    "elif costPrice>50000 and costPrice<=100000 :\n",
    "    print(\"Road tax to be paid is 10%\")\n",
    "else :\n",
    "    print(\"Road tax to be paid is 5%\")"
   ]
  },
  {
   "cell_type": "code",
   "execution_count": 16,
   "id": "85533e82-53ad-4c59-bad2-fd40b4e8f32f",
   "metadata": {},
   "outputs": [
    {
     "name": "stdin",
     "output_type": "stream",
     "text": [
      "Enter any city Delhi\n"
     ]
    },
    {
     "name": "stdout",
     "output_type": "stream",
     "text": [
      "Grade obtained is A\n"
     ]
    }
   ],
   "source": [
    "## ANSWER-3\n",
    "city= str(input(\"Enter any city\"))\n",
    "if city == 'Delhi' :\n",
    "    print(\"\")\n",
    "elif city == 'Agra' :\n",
    "    print(\"Taj mahal\")\n",
    "elif city == 'Jaipur':\n",
    "    print(\"Jal Mahal\")\n",
    "else : \n",
    "    print(\"No such city available\")"
   ]
  },
  {
   "cell_type": "code",
   "execution_count": 5,
   "id": "b9237627-3c7e-4fba-90fe-e441f8fccd8e",
   "metadata": {},
   "outputs": [
    {
     "name": "stdin",
     "output_type": "stream",
     "text": [
      "Enter any number 45\n"
     ]
    },
    {
     "name": "stdout",
     "output_type": "stream",
     "text": [
      "2\n"
     ]
    }
   ],
   "source": [
    "## ANSWER-4\n",
    "num = int(input(\"Enter any number\"))\n",
    "count = 0\n",
    "while num >= 10 :\n",
    "    if num % 3 == 0 :\n",
    "        count = count + 1\n",
    "        num = num/3\n",
    "    else :\n",
    "        break\n",
    "print(count, \"\")\n",
    "        "
   ]
  },
  {
   "cell_type": "markdown",
   "id": "85bd47ea-eb0c-49df-aa7e-0b239be0f113",
   "metadata": {},
   "source": [
    "ANSWER-5\n",
    "While loop is used when we have to print in accordance with the true or false of that condition. \n",
    "If the condition is true then the statements written inside the indentation of the loop are evaluated. \n",
    "If the condition is false then loop takes exit without evaluating any of the statements.\n",
    "It is used when we are not aware of the range of the particular loop and have less idea as to where the loop will stop\n",
    "\n",
    "For example :-\n"
   ]
  },
  {
   "cell_type": "code",
   "execution_count": 5,
   "id": "fc050eb3-8514-408d-b669-4f176960d2f6",
   "metadata": {},
   "outputs": [
    {
     "name": "stdin",
     "output_type": "stream",
     "text": [
      "enter your limit 5\n"
     ]
    },
    {
     "name": "stdout",
     "output_type": "stream",
     "text": [
      "Sum is :-  15\n"
     ]
    }
   ],
   "source": [
    "# sum up the number till the limit :\n",
    "n = int(input(\"enter your limit\"))\n",
    "starting_point = 0\n",
    "counter = 1\n",
    "\n",
    "while counter <= n :\n",
    "    starting_point = starting_point + counter\n",
    "    counter = counter + 1\n",
    "print(\"Sum is :- \", starting_point)"
   ]
  },
  {
   "cell_type": "code",
   "execution_count": 7,
   "id": "a6584adb-78df-4667-b2af-662fc5158789",
   "metadata": {},
   "outputs": [
    {
     "name": "stdin",
     "output_type": "stream",
     "text": [
      "Enter number of rows :  10\n"
     ]
    },
    {
     "name": "stdout",
     "output_type": "stream",
     "text": [
      "* \n",
      "* * \n",
      "* * * \n",
      "* * * * \n",
      "* * * * * \n",
      "* * * * * * \n",
      "* * * * * * * \n",
      "* * * * * * * * \n",
      "* * * * * * * * * \n",
      "* * * * * * * * * * \n"
     ]
    }
   ],
   "source": [
    "# ANSWER - 6 - Nested while loop\n",
    "# PATTERN- 1 \n",
    "n = int(input('Enter number of rows : '))\n",
    "\n",
    "i = 1\n",
    "while i <= n :\n",
    "    j = 1\n",
    "    while j <= i:\n",
    "        print(\"*\", end = \" \")\n",
    "        j = j + 1\n",
    "    print()\n",
    "    i = i + 1\n"
   ]
  },
  {
   "cell_type": "code",
   "execution_count": 8,
   "id": "bf7c53bd-de4b-4b07-8ea2-26f2ff232d9b",
   "metadata": {},
   "outputs": [
    {
     "name": "stdin",
     "output_type": "stream",
     "text": [
      "Enter number of rows :  10\n"
     ]
    },
    {
     "name": "stdout",
     "output_type": "stream",
     "text": [
      "* * * * * * * * * * \n",
      "* * * * * * * * * \n",
      "* * * * * * * * \n",
      "* * * * * * * \n",
      "* * * * * * \n",
      "* * * * * \n",
      "* * * * \n",
      "* * * \n",
      "* * \n",
      "* \n"
     ]
    }
   ],
   "source": [
    "# PATTERN - 2\n",
    "n = int(input('Enter number of rows : '))\n",
    "\n",
    "i = 1\n",
    "while i <= n :\n",
    "    j = n\n",
    "    while j >= i:\n",
    "        print(\"*\", end = \" \")\n",
    "        j = j - 1\n",
    "    print()\n",
    "    i = i + 1"
   ]
  },
  {
   "cell_type": "code",
   "execution_count": 9,
   "id": "ed609333-cea4-4a77-b62a-3d005b417578",
   "metadata": {},
   "outputs": [
    {
     "name": "stdin",
     "output_type": "stream",
     "text": [
      "Enter number of rows :  10\n"
     ]
    },
    {
     "name": "stdout",
     "output_type": "stream",
     "text": [
      "  1 \n",
      "  2   3 \n",
      "  4   5   6 \n",
      "  7   8   9  10 \n",
      " 11  12  13  14  15 \n",
      " 16  17  18  19  20  21 \n",
      " 22  23  24  25  26  27  28 \n",
      " 29  30  31  32  33  34  35  36 \n",
      " 37  38  39  40  41  42  43  44  45 \n",
      " 46  47  48  49  50  51  52  53  54  55 \n"
     ]
    }
   ],
   "source": [
    "# PATTERN - 3\n",
    "n = int(input('Enter number of rows : '))\n",
    "\n",
    "k = 1\n",
    "i = 1\n",
    "while i <= n :\n",
    "    j = 1\n",
    "    while j <= i:\n",
    "        print(\"{:3d}\".format(k), end = \" \")\n",
    "        j += 1\n",
    "        k += 1\n",
    "    print()\n",
    "    i += 1"
   ]
  },
  {
   "cell_type": "code",
   "execution_count": 3,
   "id": "2c61caf1-c6eb-4393-a574-3c50ea153151",
   "metadata": {},
   "outputs": [
    {
     "name": "stdout",
     "output_type": "stream",
     "text": [
      "10\n",
      "9\n",
      "8\n",
      "7\n",
      "6\n",
      "5\n",
      "4\n",
      "3\n",
      "2\n",
      "1\n"
     ]
    }
   ],
   "source": [
    "# ANSWER - 7\n",
    "n = 10\n",
    "while n>0 and n<11 :\n",
    "    print (n) \n",
    "    n = n - 1 "
   ]
  },
  {
   "cell_type": "code",
   "execution_count": 2,
   "id": "7aa62b8f-440b-4e4e-aae4-93a31f6f6594",
   "metadata": {},
   "outputs": [
    {
     "name": "stdout",
     "output_type": "stream",
     "text": [
      "10\n",
      "9\n",
      "8\n",
      "7\n",
      "6\n",
      "5\n",
      "4\n",
      "3\n",
      "2\n",
      "1\n"
     ]
    }
   ],
   "source": [
    "# ANSWER - 8\n",
    "n = 10\n",
    "while n>0 and n<11 :\n",
    "    print (n) \n",
    "    n = n - 1 "
   ]
  },
  {
   "cell_type": "code",
   "execution_count": null,
   "id": "4636652a-a645-4442-bdd9-66e097637410",
   "metadata": {},
   "outputs": [],
   "source": []
  }
 ],
 "metadata": {
  "kernelspec": {
   "display_name": "Python 3 (ipykernel)",
   "language": "python",
   "name": "python3"
  },
  "language_info": {
   "codemirror_mode": {
    "name": "ipython",
    "version": 3
   },
   "file_extension": ".py",
   "mimetype": "text/x-python",
   "name": "python",
   "nbconvert_exporter": "python",
   "pygments_lexer": "ipython3",
   "version": "3.10.8"
  }
 },
 "nbformat": 4,
 "nbformat_minor": 5
}
