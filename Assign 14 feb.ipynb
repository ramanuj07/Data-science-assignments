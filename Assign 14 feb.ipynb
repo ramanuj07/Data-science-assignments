{
 "cells": [
  {
   "cell_type": "code",
   "execution_count": null,
   "id": "74edae69-0ec8-4ad2-b38b-9156c5f4000c",
   "metadata": {},
   "outputs": [],
   "source": [
    "# ANSWER-1 \n",
    "# Multithreading means to run multiple threads within one core of the cpu device. We can also switch between threads.This process is known as Context switching. It is a way of doing multitasking.\n",
    "\n",
    "# It is used for having better performance. Also one longer-running task doesn't block all the other tasks. \n",
    "\n",
    "# Module used in python is \"threading\". It handles the threads in Python"
   ]
  },
  {
   "cell_type": "code",
   "execution_count": null,
   "id": "b04ba107-b15c-4867-887a-96ec870d20a5",
   "metadata": {},
   "outputs": [],
   "source": [
    "# ANSWER-2 \n",
    "\n",
    "# Threading module used in python as:-\n",
    "# Python threading allows us to have different parts of our program run concurrently and can simplify our design.\n",
    "\n",
    "# threading.activeCount() − Returns the number of thread objects that are active.\n",
    "\n",
    "# threading.currentThread() − Returns the number of thread objects in the caller's thread control.\n",
    "\n",
    "# threading.enumerate() − Returns a list of all thread objects that are currently active.\n",
    "\n"
   ]
  },
  {
   "cell_type": "code",
   "execution_count": null,
   "id": "ea6b64f1-3ad9-4e3b-b31a-b0759f51eb65",
   "metadata": {},
   "outputs": [],
   "source": [
    "# ANSWER-3\n",
    "# run() − The run() method is the entry point for a thread.\n",
    "\n",
    "# start() − The start() method starts a thread by calling the run method.\n",
    "\n",
    "# join() − The join() waits for threads to terminate.\n",
    "\n",
    "# isAlive() − The isAlive() method checks whether a thread is still executing."
   ]
  },
  {
   "cell_type": "code",
   "execution_count": 86,
   "id": "07d86416-bb0b-4824-9e37-7796fd60f8c8",
   "metadata": {},
   "outputs": [
    {
     "name": "stdout",
     "output_type": "stream",
     "text": [
      "square of 1 is 1\n",
      "square of 2 is 4\n",
      "square of 3 is 9\n",
      "square of 4 is 16\n",
      "square of 5 is 25\n",
      "cube of 1 is 1\n",
      "cube of 2 is 8\n",
      "cube of 3 is 27\n",
      "cube of 4 is 64\n",
      "cube of 5 is 125\n"
     ]
    }
   ],
   "source": [
    "# ANSWER-4\n",
    "\n",
    "import threading\n",
    "\n",
    "def thread1():\n",
    "    for i in range(1,6):\n",
    "        print(f\"square of {i} is {i**2}\")\n",
    "        \n",
    "def thread2():\n",
    "    for i in range(1,6):\n",
    "        print(f\"cube of {i} is {i**3}\")\n",
    "        \n",
    "ans1 = [threading.Thread(target = thread1)]\n",
    "ans2 = [threading.Thread(target = thread2)]\n",
    "\n",
    "for t in ans1:\n",
    "    t.start()\n",
    "\n",
    "for t in ans2:\n",
    "    t.start()"
   ]
  },
  {
   "cell_type": "code",
   "execution_count": null,
   "id": "54076280-6500-4386-bf13-84541e9a5282",
   "metadata": {},
   "outputs": [],
   "source": [
    "# ANSWER-5 \n",
    "\n",
    "# Advantages:\n",
    "#         1.Improved performance\n",
    "#         2.Responsiveness\n",
    "#         3.Resource sharing\n",
    "#         4.Modularity\n",
    "        \n",
    "        \n",
    "# Disadvantages:\n",
    "#         1.Complexity\n",
    "#         2.Synchronization\n",
    "#         3.Increased memory usage\n",
    "#         4.Overhead"
   ]
  },
  {
   "cell_type": "markdown",
   "id": "5b69abcc-8306-4b26-a827-7144116048e6",
   "metadata": {},
   "source": [
    "<!-- ANSWER-6 \n",
    "\n",
    "A deadlock occurs when two or more threads are waiting for each other to release a resources,such as a lock or a semaphore,that they need to continue execution.\n",
    "In other words,each thread is blocked and waiting for a resource that another thread is holding, and the program becomes stuck in a state where no progress can be made.Deadlocks are serious problem in multithreaded programs and can be difficult to detect and resolve.\n",
    "    \n",
    "\n",
    "A race condition occurs when two threads access a shared variable at the same time. The first thread reads the variable, and the second thread reads the same value from the variable. Then the first thread and second thread perform their operations on the value, and they race to see which thread can write the value last to the shared variable. The value of the thread that writes its value last is preserved, because the thread is writing over the value that the previous thread wrote.\n",
    "\n",
    "To avoid deadlocks and race condtions in multithreaded programs,it is important to follow best practices such as proper synchronization and mutual exclusion,careful design and testing,and using appropriate concurrency libraries and tools. -->"
   ]
  }
 ],
 "metadata": {
  "kernelspec": {
   "display_name": "Python 3 (ipykernel)",
   "language": "python",
   "name": "python3"
  },
  "language_info": {
   "codemirror_mode": {
    "name": "ipython",
    "version": 3
   },
   "file_extension": ".py",
   "mimetype": "text/x-python",
   "name": "python",
   "nbconvert_exporter": "python",
   "pygments_lexer": "ipython3",
   "version": "3.10.8"
  }
 },
 "nbformat": 4,
 "nbformat_minor": 5
}
