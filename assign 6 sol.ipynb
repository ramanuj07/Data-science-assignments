{
 "cells": [
  {
   "cell_type": "markdown",
   "id": "da701c11-7ce0-49aa-8857-ca0f791b847c",
   "metadata": {},
   "source": [
    "ANSWER-1\n",
    "\"Class\" is a non-real world entity used in OOPs concept. It acts like a blueprint for creating objects. Classes binds the whole code in a systematic and clean way for better code readability. Class creates a user-defined data structure, which holds its own data members and member functions, which can be accessed and used by creating an instance of that class. \n",
    "Created by \"class\" keyword.\n",
    "For example- For creating a class :-\n",
    "class solution :\n",
    "     pass\n",
    "\n",
    "While \"objects\" are a real world entity.An Object is an instance of a Class. A class is like a blueprint while an instance is a copy of the class with actual values. When object of a class is created, class is said to be instantiated. They are used for a better code reusability as they can be called any number of times when created.\n",
    "For example :- For instantiating a class :-\n",
    "class pwskills :\n",
    "    \n",
    "    def welcome_msg(self):\n",
    "        print(\"welcome to pwskills\")\n",
    "        \n",
    "        \n",
    "# next kernel\n",
    "ramanuj = pwskills()\n",
    "\n",
    "# next kernel\n",
    "ramanuj.welcome_msg()\n",
    "\n",
    "# Output\n",
    "welcome to pwskills"
   ]
  },
  {
   "cell_type": "markdown",
   "id": "8f007f98-ec35-41ea-be95-8104cfc37976",
   "metadata": {},
   "source": [
    "ANSWER - 2 \n",
    "There are 4 pillars of OOPs :-\n",
    "\n",
    "1) Inheritence\n",
    "2) Polymorphism\n",
    "3) Encapsulation\n",
    "4) Abstraction\n",
    " "
   ]
  },
  {
   "cell_type": "markdown",
   "id": "deec9086-61ac-4e4c-82bd-bd31fe19ba32",
   "metadata": {},
   "source": [
    "ANSWER - 3 \n",
    "__init__ is an inbuilt function known as constructor used in classes and objects. It takes Object specific data. The __init__ method lets the class initialize the object's attributes and serves no other purpose. It is only used within classes. \n",
    "\n",
    "For example :-\n",
    "\n",
    "Given below\n",
    "             \n",
    "             "
   ]
  },
  {
   "cell_type": "code",
   "execution_count": 1,
   "id": "dc92fc45-36ab-4429-93ef-07d6c098eddd",
   "metadata": {},
   "outputs": [],
   "source": [
    "class Exams :\n",
    "    \n",
    "    def __init__ (self, question, solution) :\n",
    "        \n",
    "            \n",
    "        \"\"\"\n",
    "             Takes inputs as question and solution and returns      \n",
    "             solution and question\n",
    "        \"\"\"\n",
    "            \n",
    "        self.question = question\n",
    "        self.solution = solution\n",
    "            \n",
    "    def return_func (self) :\n",
    "        \n",
    "            \n",
    "        return self.solution, self.question\n",
    "             "
   ]
  },
  {
   "cell_type": "code",
   "execution_count": 5,
   "id": "0d075263-ff0e-4c46-8cf0-f1317dd6c274",
   "metadata": {},
   "outputs": [],
   "source": [
    "ramanuj = Exams('question1', 'answer5')"
   ]
  },
  {
   "cell_type": "code",
   "execution_count": 8,
   "id": "248cd924-f36a-4b00-8205-c008ebea1727",
   "metadata": {},
   "outputs": [
    {
     "data": {
      "text/plain": [
       "('answer5', 'question1')"
      ]
     },
     "execution_count": 8,
     "metadata": {},
     "output_type": "execute_result"
    }
   ],
   "source": [
    "ramanuj.return_func()"
   ]
  },
  {
   "cell_type": "markdown",
   "id": "d7b1cacc-f08c-46ff-8710-8d25067d9407",
   "metadata": {},
   "source": [
    "ANSWER - 4\n",
    "Self binds the variables with the class. We cannot access the class variables without using \"self\". It is a type of pointer or it provides reference tO the class.\n",
    "NOTE- Self is not a reserved keyword. It is only used to associate with a class"
   ]
  },
  {
   "cell_type": "markdown",
   "id": "ba82797a-e098-4a38-ba9e-e46213950e81",
   "metadata": {},
   "source": [
    "ANSWER - 5\n",
    "Inheritance is a mechanism of acquiring the features and behaviors of a class by another class. The class whose members are inherited is called the base class, and the class that inherits those members is called the derived class. Inheritance implements the IS-A relationship.\n",
    "\n",
    "OOPs support the six different types of inheritance as given below :\n",
    "Single inheritance -  Class A is the parent class and Class B is the child class since Class B inherits the features and behavior of the parent class A.\n",
    "\n",
    "Multi-level inheritance- Class C inherits the properties and behavior of Class B and Class B inherits the properties and behavior of Class A. So, here A is the parent class of B and class B is the parent class of C. So, here class C implicitly inherits the properties and behavior of class A along with Class B i.e there is a multilevel of inheritance.\n",
    "\n",
    "Multiple inheritance- class c inherits the properties and behavior of class B and class A at the same level. So, here A and Class B both are the parent classes for Class C.\n",
    "\n",
    "Multipath inheritance- class D inherits the properties and behavior of class C and class B as well as Class A. Both class C and class B inherit the Class A. So, Class A is the parent for Class B and Class C as well as Class D. So it's making it a Multipath inheritance.\n",
    "\n",
    "Hierarchical Inheritance- class A has two children class B and class D. Further, class B and class C both are having two children - class D and E; class F and G respectively.\n",
    "\n",
    "Hybrid Inheritance- This is a combination of more than one inheritance. Hence, it may be a combination of Multilevel and Multiple inheritance or Hierarchical and Multilevel inheritance Hierarchical and Multipath inheritance, or Hierarchical, Multilevel and Multiple inheritances."
   ]
  }
 ],
 "metadata": {
  "kernelspec": {
   "display_name": "Python 3 (ipykernel)",
   "language": "python",
   "name": "python3"
  },
  "language_info": {
   "codemirror_mode": {
    "name": "ipython",
    "version": 3
   },
   "file_extension": ".py",
   "mimetype": "text/x-python",
   "name": "python",
   "nbconvert_exporter": "python",
   "pygments_lexer": "ipython3",
   "version": "3.10.8"
  }
 },
 "nbformat": 4,
 "nbformat_minor": 5
}
